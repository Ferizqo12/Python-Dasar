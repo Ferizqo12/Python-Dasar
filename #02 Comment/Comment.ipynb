{
  "nbformat": 4,
  "nbformat_minor": 0,
  "metadata": {
    "colab": {
      "provenance": []
    },
    "kernelspec": {
      "name": "python3",
      "display_name": "Python 3"
    },
    "language_info": {
      "name": "python"
    }
  },
  "cells": [
    {
      "cell_type": "code",
      "execution_count": null,
      "metadata": {
        "id": "7_OqiHFl7ann"
      },
      "outputs": [],
      "source": [
        "\"\"\"\n",
        "  ini merupakan program contoh pembelajar pada variable \n",
        "  oleh team halotech academy \n",
        "\"\"\"\n",
        "# ini merupakan membuat variable bernama spiderman yang berisi \"peter parker\"\n",
        "spiderman = \"Peter Parker\"\n",
        "\n",
        "# ini mencetak nilai pada variable spiderman\n",
        "print(spiderman)\n",
        "\n",
        "# mengecheck type nilai pada variable spiderman\n",
        "print(type(spiderman))\n",
        "\n",
        "# membuat variable secara berturut-turut\n",
        "nama, alamat, jeniskelamin = \"peter parker\", \"indonesia\", \"Laki-laki\"\n",
        "\n",
        "# mencetak setiap nilai pada variabel nama, alamat, dan jenis kelamin\n",
        "print(nama)\n",
        "print(alamat)\n",
        "print(jeniskelamin)\n",
        "\n"
      ]
    }
  ]
}