{
  "nbformat": 4,
  "nbformat_minor": 0,
  "metadata": {
    "colab": {
      "provenance": []
    },
    "kernelspec": {
      "name": "python3",
      "display_name": "Python 3"
    },
    "language_info": {
      "name": "python"
    }
  },
  "cells": [
    {
      "cell_type": "markdown",
      "source": [
        "## To Integer"
      ],
      "metadata": {
        "id": "5AsscEDNa4Gr"
      }
    },
    {
      "cell_type": "code",
      "source": [
        "# float --> integer\n",
        "# Boolean --> Integer\n",
        "\n",
        "data = 10.9\n",
        "data_int = int(data)\n",
        "\n",
        "\n",
        "print(data, type(data))\n",
        "print(data_int, type(data_int))"
      ],
      "metadata": {
        "colab": {
          "base_uri": "https://localhost:8080/"
        },
        "id": "udavAJAFKegk",
        "outputId": "f6518349-0ab0-4ba7-ceec-f60d9b53536e"
      },
      "execution_count": null,
      "outputs": [
        {
          "output_type": "stream",
          "name": "stdout",
          "text": [
            "10.9 <class 'float'>\n",
            "10 <class 'int'>\n"
          ]
        }
      ]
    },
    {
      "cell_type": "markdown",
      "source": [
        "## To Float"
      ],
      "metadata": {
        "id": "o6cudyHlbAZ5"
      }
    },
    {
      "cell_type": "code",
      "source": [
        "# integer --> float\n",
        "# Boolean --> float\n",
        "\n",
        "data = 8 \n",
        "data_float = float(data)\n",
        "\n",
        "print(data, type(data))\n",
        "print(data_float, type(data_float))"
      ],
      "metadata": {
        "colab": {
          "base_uri": "https://localhost:8080/"
        },
        "id": "VpgSr6iMPkHn",
        "outputId": "421a1b5b-25cf-481b-96c8-64692f96c6e4"
      },
      "execution_count": null,
      "outputs": [
        {
          "output_type": "stream",
          "name": "stdout",
          "text": [
            "8 <class 'int'>\n",
            "8.0 <class 'float'>\n"
          ]
        }
      ]
    },
    {
      "cell_type": "markdown",
      "source": [
        "## To Boolean"
      ],
      "metadata": {
        "id": "SNFEqV7LbFg6"
      }
    },
    {
      "cell_type": "code",
      "source": [
        "# Integer/Float --> Boolean \n",
        "\n",
        "# String/list/set/tuple/dict --> Boolean\n",
        "\n",
        "data = 0\n",
        "data_bool = bool(data)\n",
        "\n",
        "print(data, type(data))\n",
        "print(data_bool, type(data_bool))"
      ],
      "metadata": {
        "colab": {
          "base_uri": "https://localhost:8080/"
        },
        "id": "bCTDqJoUQBec",
        "outputId": "47107174-a514-410c-b2ff-5bb39896122a"
      },
      "execution_count": null,
      "outputs": [
        {
          "output_type": "stream",
          "name": "stdout",
          "text": [
            "0 <class 'int'>\n",
            "False <class 'bool'>\n"
          ]
        }
      ]
    },
    {
      "cell_type": "markdown",
      "source": [
        "## To String"
      ],
      "metadata": {
        "id": "O-0huHiFbLFS"
      }
    },
    {
      "cell_type": "code",
      "source": [
        "# All Type --> String\n",
        "\n",
        "data = 1000 \n",
        "data_str = str(data)\n",
        "\n",
        "print(data, type(data))\n",
        "print(data_str, type(data_str))\n",
        "\n"
      ],
      "metadata": {
        "id": "bFwi_sdSUc8v",
        "colab": {
          "base_uri": "https://localhost:8080/"
        },
        "outputId": "fcc56bbd-1ed0-4c6d-cc87-0a1d8345b2a3"
      },
      "execution_count": null,
      "outputs": [
        {
          "output_type": "stream",
          "name": "stdout",
          "text": [
            "1000 <class 'int'>\n",
            "1000 <class 'str'>\n"
          ]
        }
      ]
    },
    {
      "cell_type": "markdown",
      "source": [
        "## To List"
      ],
      "metadata": {
        "id": "1AdicjozOfOm"
      }
    },
    {
      "cell_type": "code",
      "source": [
        "#  String --> list \n",
        "# Tuple/set --> list\n",
        "\n",
        "data = \"spiderman\"\n",
        "data_list = list(data)\n",
        "\n",
        "print(data, type(data))\n",
        "print(data_list, type(data_list))"
      ],
      "metadata": {
        "id": "spdQWOwxV5lW",
        "colab": {
          "base_uri": "https://localhost:8080/"
        },
        "outputId": "9be3ac7a-08b9-401a-d656-13c073c7e2d1"
      },
      "execution_count": null,
      "outputs": [
        {
          "output_type": "stream",
          "name": "stdout",
          "text": [
            "spiderman <class 'str'>\n",
            "['s', 'p', 'i', 'd', 'e', 'r', 'm', 'a', 'n'] <class 'list'>\n"
          ]
        }
      ]
    },
    {
      "cell_type": "markdown",
      "source": [
        "## To Tuple"
      ],
      "metadata": {
        "id": "BpOJlhjqQdNs"
      }
    },
    {
      "cell_type": "code",
      "source": [
        "# Mengubah String --> Tuple\n",
        "# list/set --> tuple \n",
        "\n",
        "\n",
        "data = \"spiderman\"\n",
        "data_tuple = tuple(data)\n",
        "print(data, type(data))\n",
        "print(data_tuple, type(data_tuple))"
      ],
      "metadata": {
        "colab": {
          "base_uri": "https://localhost:8080/"
        },
        "id": "0Uk5eTpgQTki",
        "outputId": "4486a658-791b-4557-fb67-3b669a5aff23"
      },
      "execution_count": null,
      "outputs": [
        {
          "output_type": "stream",
          "name": "stdout",
          "text": [
            "spiderman <class 'str'>\n",
            "('s', 'p', 'i', 'd', 'e', 'r', 'm', 'a', 'n') <class 'tuple'>\n"
          ]
        }
      ]
    },
    {
      "cell_type": "markdown",
      "source": [
        "## To Set"
      ],
      "metadata": {
        "id": "Bogm2vlnRRzt"
      }
    },
    {
      "cell_type": "code",
      "source": [
        "data = \"spiderman\"\n",
        "data_set = set(data)\n",
        "print(data, type(data))\n",
        "print(data_set, type(data_set))"
      ],
      "metadata": {
        "colab": {
          "base_uri": "https://localhost:8080/"
        },
        "id": "jpH8vXmhQ9EJ",
        "outputId": "c7af3a42-b6d3-4215-cc43-75e71ed1e930"
      },
      "execution_count": null,
      "outputs": [
        {
          "output_type": "stream",
          "name": "stdout",
          "text": [
            "spiderman <class 'str'>\n",
            "{'a', 'r', 's', 'd', 'm', 'i', 'n', 'e', 'p'} <class 'set'>\n"
          ]
        }
      ]
    },
    {
      "cell_type": "markdown",
      "source": [
        "## To Dictionary"
      ],
      "metadata": {
        "id": "geEgrvnYSHFp"
      }
    },
    {
      "cell_type": "code",
      "source": [
        "##  list/tuple/set --> dict\n",
        "\n",
        "data = [\n",
        "          ['spiderman' , 'marvel'] ,\n",
        "          ['batman','dc' ]\n",
        "        ]\n",
        "\n",
        "data_dict = dict(data)\n",
        "\n",
        "print(data)\n",
        "\n",
        "print(data_dict)"
      ],
      "metadata": {
        "colab": {
          "base_uri": "https://localhost:8080/"
        },
        "id": "8d_NBRKKUCKB",
        "outputId": "52ac1480-251d-44d7-849f-fed0aa381219"
      },
      "execution_count": null,
      "outputs": [
        {
          "output_type": "stream",
          "name": "stdout",
          "text": [
            "(('spiderman', 'marvel'), ('batman', 'dc'))\n",
            "{'spiderman': 'marvel', 'batman': 'dc'}\n"
          ]
        }
      ]
    },
    {
      "cell_type": "code",
      "source": [
        "# menggunakan zip \n",
        "\n",
        "keys = [\"spiderman\", \"batman\", \"ironman\"]\n",
        "values = [\"marvel\", \"dc\", \"marvel\"]\n",
        "\n",
        "my_dict = dict(zip(keys, values))\n",
        "print(my_dict)"
      ],
      "metadata": {
        "colab": {
          "base_uri": "https://localhost:8080/"
        },
        "id": "4YfqX129T_aO",
        "outputId": "aa3501fd-7a6f-44d1-9132-cb0bc7b82810"
      },
      "execution_count": null,
      "outputs": [
        {
          "output_type": "stream",
          "name": "stdout",
          "text": [
            "{'spiderman': 'marvel', 'batman': 'dc', 'ironman': 'marvel'}\n"
          ]
        }
      ]
    },
    {
      "cell_type": "code",
      "source": [],
      "metadata": {
        "id": "3O9fpqxsU2Zh"
      },
      "execution_count": null,
      "outputs": []
    }
  ]
}