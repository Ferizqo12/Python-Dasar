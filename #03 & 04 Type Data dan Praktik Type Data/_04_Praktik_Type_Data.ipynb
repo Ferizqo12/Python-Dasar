{
  "nbformat": 4,
  "nbformat_minor": 0,
  "metadata": {
    "colab": {
      "provenance": []
    },
    "kernelspec": {
      "name": "python3",
      "display_name": "Python 3"
    },
    "language_info": {
      "name": "python"
    }
  },
  "cells": [
    {
      "cell_type": "code",
      "execution_count": null,
      "metadata": {
        "colab": {
          "base_uri": "https://localhost:8080/"
        },
        "id": "6cUdn4ifFsQI",
        "outputId": "0e27ecdd-ecc2-4757-f79b-fa1a8cf4a201"
      },
      "outputs": [
        {
          "output_type": "stream",
          "name": "stdout",
          "text": [
            "8\n",
            "<class 'int'>\n"
          ]
        }
      ],
      "source": [
        "# Type Data Integer/Bilangan Bulat\n",
        "\n",
        "data = 8 \n",
        "print(data)\n",
        "print(type(data))"
      ]
    },
    {
      "cell_type": "code",
      "source": [
        "# Type Data Float/Desimal\n",
        "\n",
        "data = 8.0\n",
        "print(data) \n",
        "print(type(data))\n",
        "\n",
        "data = 8.8\n",
        "print(data)\n",
        "print(type(data))"
      ],
      "metadata": {
        "colab": {
          "base_uri": "https://localhost:8080/"
        },
        "id": "JhJ8dpvAGivj",
        "outputId": "61a45156-f6bd-450a-8a8a-82819d820c9c"
      },
      "execution_count": null,
      "outputs": [
        {
          "output_type": "stream",
          "name": "stdout",
          "text": [
            "8.0\n",
            "<class 'float'>\n",
            "8.8\n",
            "<class 'float'>\n"
          ]
        }
      ]
    },
    {
      "cell_type": "code",
      "source": [
        "# Type Data Boolean/biner\n",
        "# hanya memiliki 2 nilai --> True/False\n",
        "\n",
        "data1 = True\n",
        "data2 = False\n",
        "\n",
        "print(data1)\n",
        "print(type(data1))\n",
        "\n",
        "print(data2)\n",
        "print(type(data2))"
      ],
      "metadata": {
        "colab": {
          "base_uri": "https://localhost:8080/"
        },
        "id": "tqxYKes4G57n",
        "outputId": "0bd00da3-c6ff-42f2-9686-5b0fb8b44e23"
      },
      "execution_count": null,
      "outputs": [
        {
          "output_type": "stream",
          "name": "stdout",
          "text": [
            "True\n",
            "<class 'bool'>\n",
            "False\n",
            "<class 'bool'>\n"
          ]
        }
      ]
    },
    {
      "cell_type": "code",
      "source": [
        "# Type Data String/Kumpulan Karakter\n",
        "# \"  \" \n",
        "\n",
        "data1 = \"spiderman\"\n",
        "data2 = \"8\"\n",
        "data3 = \"8.0\"\n",
        "data4 = \"False\"\n",
        "\n",
        "print(data4)\n",
        "print(type(data4))"
      ],
      "metadata": {
        "colab": {
          "base_uri": "https://localhost:8080/"
        },
        "id": "PGmw-QwoG-qi",
        "outputId": "bee672c2-2dce-491a-98dc-3d0c33baf166"
      },
      "execution_count": null,
      "outputs": [
        {
          "output_type": "stream",
          "name": "stdout",
          "text": [
            "False\n",
            "<class 'str'>\n"
          ]
        }
      ]
    },
    {
      "cell_type": "code",
      "source": [
        "# Type Data List \n",
        "# Kumpulan Element yang dapat di MODIFIKASI/UBAH\n",
        "# Menggunakan [] \n",
        "\n",
        "data = [\"spiderman\", \"ironman\", \"superman\"]\n",
        "\n",
        "print(data)\n",
        "print(type(data))"
      ],
      "metadata": {
        "colab": {
          "base_uri": "https://localhost:8080/"
        },
        "id": "PHtpkoyiIE6y",
        "outputId": "fc4518b1-e497-4914-86d7-3c07c37b7ba6"
      },
      "execution_count": null,
      "outputs": [
        {
          "output_type": "stream",
          "name": "stdout",
          "text": [
            "['spiderman', 'ironman', 'superman']\n",
            "<class 'list'>\n"
          ]
        }
      ]
    },
    {
      "cell_type": "code",
      "source": [
        "# Type Data Tuple \n",
        "# Kumpulan element yang TIDAK dapat di MODIFIKASI/UBAH\n",
        "# Menggunakan ()\n",
        "\n",
        "data = (\"spiderman\", \"ironman\", \"superman\")\n",
        "print(data)\n",
        "print(type(data))"
      ],
      "metadata": {
        "colab": {
          "base_uri": "https://localhost:8080/"
        },
        "id": "f3FA4EExIfuK",
        "outputId": "4ca6241d-2431-40f3-98bf-75dc61579819"
      },
      "execution_count": null,
      "outputs": [
        {
          "output_type": "stream",
          "name": "stdout",
          "text": [
            "('spiderman', 'ironman', 'superman')\n",
            "<class 'tuple'>\n"
          ]
        }
      ]
    },
    {
      "cell_type": "code",
      "source": [
        "# Type Data Set\n",
        "# Kumpulan element yang pasti UNIK dan TIDAK BERURUTAN\n",
        "# Menggunakan {}\n",
        "\n",
        "data = {\"spiderman\", \"ironman\",\"ironman\", \"superman\"}\n",
        "print(data)\n",
        "print(type(data))"
      ],
      "metadata": {
        "colab": {
          "base_uri": "https://localhost:8080/"
        },
        "id": "WK67jT_GJD4a",
        "outputId": "a01c57dd-1607-4e7c-bf74-2438fc76932a"
      },
      "execution_count": null,
      "outputs": [
        {
          "output_type": "stream",
          "name": "stdout",
          "text": [
            "{'ironman', 'spiderman', 'superman'}\n",
            "<class 'set'>\n"
          ]
        }
      ]
    },
    {
      "cell_type": "code",
      "source": [
        "# Type Data Dictionary\n",
        "# Kumpulan PASANGAN KEY-VALUE\n",
        "# Menggunakan {key1:value1, key2:value2}\n",
        "\n",
        "data = {\"spiderman\" : \"marvel\", \"batman\": \"DC\", \"superman\" : \"DC\"}\n",
        "print(data)\n",
        "print(type(data))"
      ],
      "metadata": {
        "colab": {
          "base_uri": "https://localhost:8080/"
        },
        "id": "8gaWK5cbJWnL",
        "outputId": "0e8e7127-a365-489c-8175-14a45ccc03f4"
      },
      "execution_count": null,
      "outputs": [
        {
          "output_type": "stream",
          "name": "stdout",
          "text": [
            "{'spiderman': 'marvel', 'batman': 'DC', 'superman': 'DC'}\n",
            "<class 'dict'>\n"
          ]
        }
      ]
    }
  ]
}