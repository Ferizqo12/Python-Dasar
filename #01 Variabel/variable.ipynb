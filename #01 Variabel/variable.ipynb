{
  "nbformat": 4,
  "nbformat_minor": 0,
  "metadata": {
    "colab": {
      "provenance": []
    },
    "kernelspec": {
      "name": "python3",
      "display_name": "Python 3"
    },
    "language_info": {
      "name": "python"
    }
  },
  "cells": [
    {
      "cell_type": "markdown",
      "source": [
        "membuat Variable"
      ],
      "metadata": {
        "id": "HoGkjFSGHcWP"
      }
    },
    {
      "cell_type": "code",
      "source": [
        "# menulis variable\n",
        "nama = \"peter\"\n",
        "\n",
        "# print \n",
        "print(nama)"
      ],
      "metadata": {
        "id": "LPhWjRvFHXrC",
        "colab": {
          "base_uri": "https://localhost:8080/"
        },
        "outputId": "4b54231a-24a7-4193-aad5-b3cfcefb4f29"
      },
      "execution_count": 2,
      "outputs": [
        {
          "output_type": "stream",
          "name": "stdout",
          "text": [
            "peter\n"
          ]
        }
      ]
    },
    {
      "cell_type": "code",
      "source": [
        "spiderman = \"Peter Parker\"\n",
        "print(spiderman)"
      ],
      "metadata": {
        "colab": {
          "base_uri": "https://localhost:8080/"
        },
        "id": "e4JC46Ea2Z_r",
        "outputId": "bbf2d263-13d7-43e7-bd41-242c0c6d2f1b"
      },
      "execution_count": 3,
      "outputs": [
        {
          "output_type": "stream",
          "name": "stdout",
          "text": [
            "Peter Parker\n"
          ]
        }
      ]
    },
    {
      "cell_type": "code",
      "source": [
        "# membuat multi variable\n",
        "nama, alamat, jeniskelamin = \"Peter parker\" , \"indonesia\", \"laki-laki\""
      ],
      "metadata": {
        "id": "E6b82gwS2PyR"
      },
      "execution_count": 5,
      "outputs": []
    },
    {
      "cell_type": "code",
      "source": [
        "print(nama)\n",
        "print(alamat)\n",
        "print(jeniskelamin)"
      ],
      "metadata": {
        "colab": {
          "base_uri": "https://localhost:8080/"
        },
        "id": "2kXCgMqB2nM1",
        "outputId": "c0486973-2b7c-403f-b548-3edec242e5a1"
      },
      "execution_count": 6,
      "outputs": [
        {
          "output_type": "stream",
          "name": "stdout",
          "text": [
            "Peter parker\n",
            "indonesia\n",
            "laki-laki\n"
          ]
        }
      ]
    },
    {
      "cell_type": "markdown",
      "source": [
        "# Aturan Penulisan Variable"
      ],
      "metadata": {
        "id": "xp4S3v_D2vJs"
      }
    },
    {
      "cell_type": "code",
      "source": [
        "# penulisan yang benar\n",
        "spiderman = \"peter\"\n",
        "_spider = \"parker\"\n",
        "spider12 = \"parker\""
      ],
      "metadata": {
        "id": "4zUV3ePy2mso"
      },
      "execution_count": 7,
      "outputs": []
    },
    {
      "cell_type": "code",
      "source": [
        "# penulisan yang salah\n",
        "12spider = \"parker\"\n",
        "spider man = \"parker\"\n",
        "spider.man = \"parker\"\n",
        "spider/man = \"parker\""
      ],
      "metadata": {
        "colab": {
          "base_uri": "https://localhost:8080/",
          "height": 131
        },
        "id": "0SeWRydT2mGJ",
        "outputId": "df15bcf1-bba1-4bfd-ed1c-1bc7e558cc89"
      },
      "execution_count": 8,
      "outputs": [
        {
          "output_type": "error",
          "ename": "SyntaxError",
          "evalue": "ignored",
          "traceback": [
            "\u001b[0;36m  File \u001b[0;32m\"<ipython-input-8-de9f3bb05a7e>\"\u001b[0;36m, line \u001b[0;32m2\u001b[0m\n\u001b[0;31m    12spider = \"parker\"\u001b[0m\n\u001b[0m     ^\u001b[0m\n\u001b[0;31mSyntaxError\u001b[0m\u001b[0;31m:\u001b[0m invalid decimal literal\n"
          ]
        }
      ]
    },
    {
      "cell_type": "markdown",
      "source": [
        "# Variable Python Expsplisit"
      ],
      "metadata": {
        "id": "lqIE-viaIA0I"
      }
    },
    {
      "cell_type": "code",
      "source": [
        "spider = \"parker\"\n",
        "print(type(spider))\n",
        "print(spider)"
      ],
      "metadata": {
        "colab": {
          "base_uri": "https://localhost:8080/"
        },
        "id": "H-hXJeGcH-Ez",
        "outputId": "622ac4b7-7126-4d97-da86-2e6f65a38408"
      },
      "execution_count": null,
      "outputs": [
        {
          "output_type": "stream",
          "name": "stdout",
          "text": [
            "<class 'str'>\n",
            "parker\n"
          ]
        }
      ]
    },
    {
      "cell_type": "code",
      "source": [
        "spider = 12 \n",
        "print(type(spider))\n",
        "print(spider)"
      ],
      "metadata": {
        "colab": {
          "base_uri": "https://localhost:8080/"
        },
        "id": "rZmEOPZUIbn0",
        "outputId": "bdec7c43-6f2e-4ded-e367-38b0a7948d13"
      },
      "execution_count": null,
      "outputs": [
        {
          "output_type": "stream",
          "name": "stdout",
          "text": [
            "<class 'int'>\n",
            "12\n"
          ]
        }
      ]
    },
    {
      "cell_type": "code",
      "source": [],
      "metadata": {
        "id": "pnaGS4inIggs"
      },
      "execution_count": null,
      "outputs": []
    }
  ]
}